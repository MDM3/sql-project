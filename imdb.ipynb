{
 "cells": [
  {
   "cell_type": "code",
   "execution_count": 1,
   "metadata": {},
   "outputs": [],
   "source": [
    "import pandas as pd"
   ]
  },
  {
   "cell_type": "code",
   "execution_count": 2,
   "metadata": {},
   "outputs": [],
   "source": [
    "data = pd.read_csv('imdb_top_1000.csv')"
   ]
  },
  {
   "cell_type": "code",
   "execution_count": 3,
   "metadata": {},
   "outputs": [],
   "source": [
    "data.columns = [column.lower().replace(' ','_') for column in data.columns]"
   ]
  },
  {
   "cell_type": "code",
   "execution_count": 4,
   "metadata": {},
   "outputs": [],
   "source": [
    "data.drop(columns='poster_link', inplace=True)\n",
    "data = data.rename(columns={'runtime':'runtime_min'})\n",
    "\n",
    "data['meta_score'] = data['meta_score'].fillna(data['meta_score'].mean())\n",
    "\n",
    "data['gross'] = data['gross'].fillna(0)\n",
    "data['gross'] = data['gross'].apply(lambda x: x.replace(',', '') if isinstance(x, str) else x).astype(int)\n",
    "data['gross'] = data['gross'].replace(0, data['gross'].mean())\n",
    "\n",
    "data['runtime_min'] = data['runtime_min'].apply(lambda x: x.replace(' min', ''))\n",
    "\n",
    "data['imdb_rating'] = data['imdb_rating'].astype(str)\n",
    "\n",
    "data['certificate'] = data['certificate'].fillna('Unknown')\n",
    "\n"
   ]
  },
  {
   "cell_type": "code",
   "execution_count": 5,
   "metadata": {},
   "outputs": [
    {
     "data": {
      "text/html": [
       "<div>\n",
       "<style scoped>\n",
       "    .dataframe tbody tr th:only-of-type {\n",
       "        vertical-align: middle;\n",
       "    }\n",
       "\n",
       "    .dataframe tbody tr th {\n",
       "        vertical-align: top;\n",
       "    }\n",
       "\n",
       "    .dataframe thead th {\n",
       "        text-align: right;\n",
       "    }\n",
       "</style>\n",
       "<table border=\"1\" class=\"dataframe\">\n",
       "  <thead>\n",
       "    <tr style=\"text-align: right;\">\n",
       "      <th></th>\n",
       "      <th>series_title</th>\n",
       "      <th>released_year</th>\n",
       "      <th>certificate</th>\n",
       "      <th>runtime_min</th>\n",
       "      <th>genre</th>\n",
       "      <th>imdb_rating</th>\n",
       "      <th>overview</th>\n",
       "      <th>meta_score</th>\n",
       "      <th>director</th>\n",
       "      <th>star1</th>\n",
       "      <th>star2</th>\n",
       "      <th>star3</th>\n",
       "      <th>star4</th>\n",
       "      <th>no_of_votes</th>\n",
       "      <th>gross</th>\n",
       "    </tr>\n",
       "  </thead>\n",
       "  <tbody>\n",
       "    <tr>\n",
       "      <th>0</th>\n",
       "      <td>The Shawshank Redemption</td>\n",
       "      <td>1994</td>\n",
       "      <td>A</td>\n",
       "      <td>142</td>\n",
       "      <td>Drama</td>\n",
       "      <td>9.3</td>\n",
       "      <td>Two imprisoned men bond over a number of years...</td>\n",
       "      <td>80.0</td>\n",
       "      <td>Frank Darabont</td>\n",
       "      <td>Tim Robbins</td>\n",
       "      <td>Morgan Freeman</td>\n",
       "      <td>Bob Gunton</td>\n",
       "      <td>William Sadler</td>\n",
       "      <td>2343110</td>\n",
       "      <td>28341469.0</td>\n",
       "    </tr>\n",
       "  </tbody>\n",
       "</table>\n",
       "</div>"
      ],
      "text/plain": [
       "               series_title released_year certificate runtime_min  genre  \\\n",
       "0  The Shawshank Redemption          1994           A         142  Drama   \n",
       "\n",
       "  imdb_rating                                           overview  meta_score  \\\n",
       "0         9.3  Two imprisoned men bond over a number of years...        80.0   \n",
       "\n",
       "         director        star1           star2       star3           star4  \\\n",
       "0  Frank Darabont  Tim Robbins  Morgan Freeman  Bob Gunton  William Sadler   \n",
       "\n",
       "   no_of_votes       gross  \n",
       "0      2343110  28341469.0  "
      ]
     },
     "execution_count": 5,
     "metadata": {},
     "output_type": "execute_result"
    }
   ],
   "source": [
    "data.head(1)"
   ]
  },
  {
   "cell_type": "code",
   "execution_count": 6,
   "metadata": {},
   "outputs": [
    {
     "name": "stdout",
     "output_type": "stream",
     "text": [
      "<class 'pandas.core.frame.DataFrame'>\n",
      "RangeIndex: 1000 entries, 0 to 999\n",
      "Data columns (total 15 columns):\n",
      " #   Column         Non-Null Count  Dtype  \n",
      "---  ------         --------------  -----  \n",
      " 0   series_title   1000 non-null   object \n",
      " 1   released_year  1000 non-null   object \n",
      " 2   certificate    1000 non-null   object \n",
      " 3   runtime_min    1000 non-null   object \n",
      " 4   genre          1000 non-null   object \n",
      " 5   imdb_rating    1000 non-null   object \n",
      " 6   overview       1000 non-null   object \n",
      " 7   meta_score     1000 non-null   float64\n",
      " 8   director       1000 non-null   object \n",
      " 9   star1          1000 non-null   object \n",
      " 10  star2          1000 non-null   object \n",
      " 11  star3          1000 non-null   object \n",
      " 12  star4          1000 non-null   object \n",
      " 13  no_of_votes    1000 non-null   int64  \n",
      " 14  gross          1000 non-null   float64\n",
      "dtypes: float64(2), int64(1), object(12)\n",
      "memory usage: 117.3+ KB\n"
     ]
    }
   ],
   "source": [
    "data.info()"
   ]
  },
  {
   "cell_type": "code",
   "execution_count": 9,
   "metadata": {},
   "outputs": [],
   "source": [
    "data.to_csv(r'C:\\Users\\Darkos\\Desktop\\Labs\\WEEK_7_SQL_&_TABLEAU\\lab-sql-mysql-db-creation\\data_exported.csv')\n",
    "data.to_excel(r'C:\\Users\\Darkos\\Desktop\\Labs\\WEEK_7_SQL_&_TABLEAU\\lab-sql-mysql-db-creation\\data_exported.xlsx')"
   ]
  },
  {
   "cell_type": "code",
   "execution_count": null,
   "metadata": {},
   "outputs": [],
   "source": []
  }
 ],
 "metadata": {
  "kernelspec": {
   "display_name": "base",
   "language": "python",
   "name": "python3"
  },
  "language_info": {
   "codemirror_mode": {
    "name": "ipython",
    "version": 3
   },
   "file_extension": ".py",
   "mimetype": "text/x-python",
   "name": "python",
   "nbconvert_exporter": "python",
   "pygments_lexer": "ipython3",
   "version": "3.12.4"
  }
 },
 "nbformat": 4,
 "nbformat_minor": 2
}
